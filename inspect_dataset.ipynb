{
 "cells": [
  {
   "cell_type": "code",
   "execution_count": null,
   "metadata": {},
   "outputs": [],
   "source": [
    "import pandas as pd\n",
    "import numpy as np\n",
    "from tools import dataset_tools\n",
    "import tqdm"
   ]
  },
  {
   "cell_type": "code",
   "execution_count": null,
   "metadata": {},
   "outputs": [],
   "source": [
    "dataset_path = './benchmarks/FB13/'"
   ]
  },
  {
   "cell_type": "code",
   "execution_count": null,
   "metadata": {},
   "outputs": [],
   "source": [
    "entity2id, id2entity = dataset_tools.read_name2id_file(dataset_path + 'entity2id.txt')\n",
    "relation2id, id2relation = dataset_tools.read_name2id_file(dataset_path + 'relation2id.txt')"
   ]
  },
  {
   "cell_type": "markdown",
   "metadata": {},
   "source": [
    "## Verify 2id files"
   ]
  },
  {
   "cell_type": "code",
   "execution_count": null,
   "metadata": {},
   "outputs": [],
   "source": [
    "train = pd.read_csv(dataset_path + 'train2id.txt', sep=' ', skiprows=1, names=['e1', 'e2', 'rel'])\n",
    "valid_pos = pd.read_csv(dataset_path + 'valid2id.txt', sep=' ', skiprows=1, names=['e1', 'e2', 'rel'])\n",
    "test_pos = pd.read_csv(dataset_path + 'test2id.txt', sep=' ', skiprows=1, names=['e1', 'e2', 'rel'])\n",
    "\n",
    "valid_neg = pd.read_csv(dataset_path + 'valid2id_neg.txt', sep=' ', skiprows=1, names=['e1', 'e2', 'rel'])\n",
    "test_neg = pd.read_csv(dataset_path + 'test2id_neg.txt', sep=' ', skiprows=1, names=['e1', 'e2', 'rel'])\n",
    "\n",
    "# assign labels\n",
    "train['label'] = 1\n",
    "valid_pos['label'] =  1\n",
    "valid_neg['label'] = -1\n",
    "test_pos['label'] =  1\n",
    "test_neg['label'] = -1\n",
    "\n",
    "valid = pd.concat((valid_pos, valid_neg), ignore_index=True)\n",
    "test = pd.concat((test_pos, test_neg), ignore_index=True)\n",
    "\n",
    "data_pos = pd.concat([train, valid_pos, test_pos], ignore_index=True)\n",
    "data = pd.concat([train, valid, test], ignore_index=True)"
   ]
  },
  {
   "cell_type": "code",
   "execution_count": null,
   "metadata": {},
   "outputs": [],
   "source": [
    "ents = set()\n",
    "ents.update(data.e1.unique())\n",
    "ents.update(data.e2.unique())\n",
    "\n",
    "print('Entities: {}'.format(len(ents)))\n",
    "print('Relations: {}'.format(len(data.rel.unique())))\n",
    "\n",
    "print('\\nTrain triples: {}'.format(len(train)))\n",
    "print('Positive Valid triples: {}'.format(len(valid_pos)))\n",
    "print('Positive Test triples: {}'.format(len(test_pos)))\n",
    "print('\\nNegative Valid triples: {}'.format(len(valid_neg)))\n",
    "print('Negative Test triples: {}'.format(len(test_neg)))\n",
    "\n",
    "print('\\nAll positive triples: {}').format(len(data_pos))\n",
    "print('All triples: {}').format(len(data))"
   ]
  },
  {
   "cell_type": "markdown",
   "metadata": {},
   "source": [
    "## Convert from id to names"
   ]
  },
  {
   "cell_type": "code",
   "execution_count": null,
   "metadata": {},
   "outputs": [],
   "source": [
    "def convert_id2names(df):\n",
    "    df['e1'] = df['e1'].map(id2entity)\n",
    "    df['e2'] = df['e2'].map(id2entity)\n",
    "    df['rel'] = df['rel'].map(id2relation)"
   ]
  },
  {
   "cell_type": "code",
   "execution_count": null,
   "metadata": {},
   "outputs": [],
   "source": [
    "convert_id2names(data)\n",
    "convert_id2names(train)\n",
    "convert_id2names(valid)\n",
    "convert_id2names(test)"
   ]
  },
  {
   "cell_type": "markdown",
   "metadata": {},
   "source": [
    "## Comparison with original `.txt` files"
   ]
  },
  {
   "cell_type": "code",
   "execution_count": null,
   "metadata": {},
   "outputs": [],
   "source": [
    "train_orig = pd.read_csv(dataset_path + 'train.txt', sep='\\t', names=['e1', 'rel', 'e2'])\n",
    "valid_orig_0 = pd.read_csv(dataset_path + 'valid.txt', sep='\\t', names=['e1', 'rel', 'e2', 'label'])\n",
    "test_orig_0 = pd.read_csv(dataset_path + 'test.txt', sep='\\t', names=['e1', 'rel', 'e2', 'label'])\n",
    "\n",
    "valid_orig_pos = valid_orig_0.loc[valid_orig_0['label'] ==  1]\n",
    "valid_orig_neg = valid_orig_0.loc[valid_orig_0['label'] == -1]\n",
    "test_orig_pos = test_orig_0.loc[test_orig_0['label'] ==  1]\n",
    "test_orig_neg = test_orig_0.loc[test_orig_0['label'] == -1]\n",
    "\n",
    "valid_orig = pd.concat([valid_orig_pos, valid_orig_neg], ignore_index=True)\n",
    "test_orig = pd.concat([test_orig_pos, test_orig_neg], ignore_index=True)\n",
    "\n",
    "# assign labels\n",
    "train_orig['label'] = 1\n",
    "\n",
    "data_orig_pos = pd.concat([train_orig, valid_orig_pos, test_orig_pos], ignore_index=True)\n",
    "data_orig = pd.concat([train_orig, valid_orig, test_orig], ignore_index=True)"
   ]
  },
  {
   "cell_type": "code",
   "execution_count": null,
   "metadata": {},
   "outputs": [],
   "source": [
    "ents_orig = set()\n",
    "ents_orig.update(data_orig.e1.unique())\n",
    "ents_orig.update(data_orig.e2.unique())\n",
    "\n",
    "print('Entities: {}'.format(len(ents_orig)))\n",
    "print('Relations: {}'.format(len(data_orig.rel.unique())))\n",
    "\n",
    "print('\\nTrain triples: {}'.format(len(train_orig)))\n",
    "print('Valid triples: {}'.format(len(valid_orig_pos)))\n",
    "print('Test triples: {}\\n'.format(len(test_orig_pos)))\n",
    "print('Negative Valid triples: {}'.format(len(valid_orig_neg)))\n",
    "print('Negative Test triples: {}'.format(len(test_orig_neg)))\n",
    "\n",
    "print('\\nAll positive triples: {}').format(len(data_orig_pos))\n",
    "print('All triples: {}').format(len(data_orig))"
   ]
  },
  {
   "cell_type": "markdown",
   "metadata": {},
   "source": [
    "## Comparison of each data point"
   ]
  },
  {
   "cell_type": "code",
   "execution_count": null,
   "metadata": {},
   "outputs": [],
   "source": [
    "def compare_rows(df1, df2):\n",
    "    columns = df1.columns.tolist()\n",
    "    for idx,row_df1 in df1.iterrows():\n",
    "        for col in columns:\n",
    "            assert row_df1[col] == df2.iloc[idx][col], 'Something is wrong, bro.'\n",
    "        if idx % 10000 == 0:\n",
    "            print idx\n",
    "    print(\"Finished! Everything is ok!\")"
   ]
  },
  {
   "cell_type": "code",
   "execution_count": null,
   "metadata": {},
   "outputs": [],
   "source": [
    "compare_rows(data, data_orig)"
   ]
  }
 ],
 "metadata": {
  "kernelspec": {
   "display_name": "Python 2",
   "language": "python",
   "name": "python2"
  },
  "language_info": {
   "codemirror_mode": {
    "name": "ipython",
    "version": 2
   },
   "file_extension": ".py",
   "mimetype": "text/x-python",
   "name": "python",
   "nbconvert_exporter": "python",
   "pygments_lexer": "ipython2",
   "version": "2.7.14"
  }
 },
 "nbformat": 4,
 "nbformat_minor": 2
}
