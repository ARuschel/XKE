{
 "cells": [
  {
   "cell_type": "code",
   "execution_count": null,
   "metadata": {},
   "outputs": [],
   "source": [
    "import os, subprocess\n",
    "from tools import dataset_tools\n",
    "import pandas as pd\n",
    "import numpy as np\n",
    "import config, models\n",
    "import multiprocessing"
   ]
  },
  {
   "cell_type": "markdown",
   "metadata": {},
   "source": [
    "# Extract features from original graph"
   ]
  },
  {
   "cell_type": "code",
   "execution_count": null,
   "metadata": {},
   "outputs": [],
   "source": [
    "# main variables\n",
    "dataset_name               = \"FB13\"\n",
    "embedding_model            = models.TransE\n",
    "model_timestamp            = '1524490825'\n",
    "\n",
    "# GPU settings\n",
    "os.environ[\"CUDA_VISIBLE_DEVICES\"] = \"1\" # should be a string"
   ]
  },
  {
   "cell_type": "code",
   "execution_count": null,
   "metadata": {},
   "outputs": [],
   "source": [
    "dataset_path = './benchmarks/{}/'.format(dataset_name)"
   ]
  },
  {
   "cell_type": "markdown",
   "metadata": {},
   "source": [
    "## Create original graph for PRA"
   ]
  },
  {
   "cell_type": "markdown",
   "metadata": {},
   "source": [
    "Create graph input (in `benchmarks/_DATASETNAME_/pra_graph_input2id/`)"
   ]
  },
  {
   "cell_type": "code",
   "execution_count": null,
   "metadata": {},
   "outputs": [],
   "source": [
    "from tools.pra_setup import create_graph_input\n",
    "\n",
    "graph_input_dirname = '/pra_graph_input2id/'\n",
    "\n",
    "create_graph_input(\n",
    "    dataset_path,\n",
    "    names_fname=['train2id.txt', 'test2id.txt', 'valid2id.txt'],\n",
    "    labels=['valid.tsv', 'test.tsv'], # folds that have labels\n",
    "    sep=' ',\n",
    "    skiprows=1,\n",
    "    order=['head', 'tail', 'relation'],\n",
    "    graph_input_dirname=graph_input_dirname\n",
    ")"
   ]
  },
  {
   "cell_type": "code",
   "execution_count": null,
   "metadata": {},
   "outputs": [],
   "source": [
    "%%bash -s \"$dataset_path\" \"$graph_input_dirname\"\n",
    "ls $1/$2"
   ]
  },
  {
   "cell_type": "markdown",
   "metadata": {},
   "source": [
    "Create file in `experiment_specs`"
   ]
  },
  {
   "cell_type": "code",
   "execution_count": null,
   "metadata": {},
   "outputs": [],
   "source": [
    "spec = \"\"\"\n",
    "{{\n",
    "    \"graph\": {{\n",
    "        \"name\": \"{}_2id\",\n",
    "        \"relation sets\": [\n",
    "            {{\n",
    "                \"is kb\": false,\n",
    "                \"relation file\": \"/home/arthurcgusmao/Projects/xkbc/algorithms/OpenKE/benchmarks/{}/{}/train2id.tsv\"\n",
    "            }},\n",
    "            {{\n",
    "                \"is kb\": false,\n",
    "                \"relation file\": \"/home/arthurcgusmao/Projects/xkbc/algorithms/OpenKE/benchmarks/{}/{}/valid2id.tsv\"\n",
    "            }}\n",
    "        ]\n",
    "    }},\n",
    "    \"operation\": {{\n",
    "        \"type\": \"no op\"\n",
    "    }}\n",
    "}}\n",
    "\"\"\".format(dataset_name, dataset_name, graph_input_dirname.replace('/', ''), dataset_name, graph_input_dirname.replace('/', ''))\n",
    "spec_fname = '{}_2id'.format(dataset_name)\n",
    "spec_fpath = './benchmarks/pra/experiment_specs/{}.json'.format(spec_fname)\n",
    "with open(spec_fpath, 'w') as f:\n",
    "    f.write(spec)\n",
    "print \"Spec file written: {}\".format(spec_fpath)"
   ]
  },
  {
   "cell_type": "markdown",
   "metadata": {},
   "source": [
    "Run PRA algorithm only to create graph.\n",
    "\n",
    "The command below will automatically run `ExperimentRunner`, without asking for class selection, for the specific dataset. Make sure the benchmark (original) graph is created."
   ]
  },
  {
   "cell_type": "markdown",
   "metadata": {},
   "source": [
    "**Warning**: the cell below will return an error, but the files needed probably will be generated correcly. This is happening because the `.json` spec files don't have all atributes, this is something to fix later."
   ]
  },
  {
   "cell_type": "code",
   "execution_count": null,
   "metadata": {},
   "outputs": [],
   "source": [
    "%%bash -s \"$spec_fname\"\n",
    "(cd /home/arthurcgusmao/Projects/xkbc/algorithms/pra/; sbt \"runMain edu.cmu.ml.rtw.pra.experiments.ExperimentRunner /home/arthurcgusmao/Projects/xkbc/algorithms/OpenKE/benchmarks/pra/ $1\")"
   ]
  },
  {
   "cell_type": "markdown",
   "metadata": {},
   "source": [
    "Generate split (inside `./results/`) with random negative examples (bernoulli or uniform)"
   ]
  },
  {
   "cell_type": "markdown",
   "metadata": {},
   "source": [
    "## Generate/Read Negative Examples"
   ]
  },
  {
   "cell_type": "code",
   "execution_count": null,
   "metadata": {},
   "outputs": [],
   "source": [
    "neg_rate = 2 # negative to positive ratio\n",
    "bern = True"
   ]
  },
  {
   "cell_type": "code",
   "execution_count": null,
   "metadata": {},
   "outputs": [],
   "source": [
    "distribution = 'bern' if bern else 'unif'\n",
    "corrupted_filename = 'train2id_{}_{}to1.txt'.format(distribution, neg_rate)\n",
    "corrupted_dirpath = dataset_path + '/corrupted/'\n",
    "corrupted_filepath = corrupted_dirpath + corrupted_filename"
   ]
  },
  {
   "cell_type": "code",
   "execution_count": null,
   "metadata": {},
   "outputs": [],
   "source": [
    "if not os.path.exists(corrupted_filepath):\n",
    "    # create corrupted dirpath if not exist\n",
    "    if not os.path.exists(corrupted_dirpath):\n",
    "        os.makedirs(corrupted_dirpath)\n",
    "    # generate corrupted set and save to disk in `corrupted` folder\n",
    "    corrupted = dataset_tools.generate_corrupted_training_examples(dataset_path,\n",
    "            neg_proportion=neg_rate, bern=bern)\n",
    "    train2id = pd.DataFrame(corrupted)\n",
    "    train2id.to_csv(corrupted_filepath,\n",
    "        columns=['head', 'tail', 'relation', 'label'], index=False, header=False, sep=' ')\n",
    "    print('Created corrupted file: {}.'.format(corrupted_filepath))    \n",
    "else:\n",
    "    train2id = pd.read_csv(corrupted_filepath,\n",
    "        names=['head', 'tail', 'relation', 'label'], sep=' ', skiprows=0)\n",
    "    print('Corrupted file already exists: {}.'.format(corrupted_filepath))"
   ]
  },
  {
   "cell_type": "markdown",
   "metadata": {},
   "source": [
    "## Read validation and test examples"
   ]
  },
  {
   "cell_type": "code",
   "execution_count": null,
   "metadata": {},
   "outputs": [],
   "source": [
    "valid2id_pos = pd.read_csv(dataset_path + 'valid2id.txt', sep=' ', skiprows=1, names=['head', 'tail', 'relation'])\n",
    "valid2id_neg = pd.read_csv(dataset_path + 'valid2id_neg.txt', sep=' ', skiprows=1, names=['head', 'tail', 'relation'])\n",
    "test2id_pos = pd.read_csv(dataset_path + 'test2id.txt', sep=' ', skiprows=1, names=['head', 'tail', 'relation'])\n",
    "test2id_neg = pd.read_csv(dataset_path + 'test2id_neg.txt', sep=' ', skiprows=1, names=['head', 'tail', 'relation'])\n",
    "\n",
    "valid2id_pos['label'] = 1\n",
    "valid2id_neg['label'] = -1\n",
    "test2id_pos['label'] = 1\n",
    "test2id_neg['label'] = -1\n",
    "\n",
    "valid2id = pd.concat((valid2id_pos, valid2id_neg))\n",
    "test2id = pd.concat((test2id_pos, test2id_neg))"
   ]
  },
  {
   "cell_type": "code",
   "execution_count": null,
   "metadata": {},
   "outputs": [],
   "source": [
    "display(train2id.head())\n",
    "display(valid2id.head())\n",
    "display(test2id.head())"
   ]
  },
  {
   "cell_type": "markdown",
   "metadata": {},
   "source": [
    "## Restore working model"
   ]
  },
  {
   "cell_type": "code",
   "execution_count": null,
   "metadata": {},
   "outputs": [],
   "source": [
    "from tools import train_test\n",
    "con = train_test.restore_model(import_path)"
   ]
  },
  {
   "cell_type": "markdown",
   "metadata": {},
   "source": [
    "## Predict and Update Data"
   ]
  },
  {
   "cell_type": "code",
   "execution_count": null,
   "metadata": {},
   "outputs": [],
   "source": [
    "for fold in [train2id, valid2id, test2id]:\n",
    "    fold['label'] = con.classify(fold['head'], fold['tail'], fold['relation'])\n",
    "    fold['label'] = fold['label'].map(lambda x: 1 if x==1 else -1)"
   ]
  },
  {
   "cell_type": "markdown",
   "metadata": {},
   "source": [
    "## Move PRA template to results (model) dir"
   ]
  },
  {
   "cell_type": "code",
   "execution_count": null,
   "metadata": {},
   "outputs": [],
   "source": [
    "pra_explain_path = import_path + '/pra_explain/'\n",
    "split_name = '{}_{}to1_2id'.format(distribution, neg_rate)"
   ]
  },
  {
   "cell_type": "code",
   "execution_count": null,
   "metadata": {},
   "outputs": [],
   "source": [
    "spec2 = \"\"\"\n",
    "{{\n",
    "    \"graph\": \"/home/arthurcgusmao/Projects/xkbc/algorithms/OpenKE/benchmarks/pra/graphs/{}_2id/\",\n",
    "    \"split\": \"{}\",\n",
    "    \"operation\": {{\n",
    "        \"type\": \"create matrices\",\n",
    "        \"features\": {{\n",
    "            \"type\": \"subgraphs\",\n",
    "            \"path finder\": {{\n",
    "                \"type\": \"BfsPathFinder\",\n",
    "                \"number of steps\": 2\n",
    "            }},\n",
    "            \"feature extractors\": [\n",
    "                \"PraFeatureExtractor\",\n",
    "                \"OneSidedPathAndEndNodeFeatureExtractor\",\n",
    "                \"AnyRelFeatureExtractor\"\n",
    "            ],\n",
    "            \"feature size\": -1\n",
    "        }}\n",
    "    }},\n",
    "    \"output\": {{ \"output matrices\": true }}\n",
    "}}\n",
    "\n",
    "\"\"\".format(dataset_name, split_name)\n",
    "spec2_name = 'extract_all_feat2id__neg_by_random'\n",
    "spec2_fpath = '{}/experiment_specs/{}.json'.format(pra_explain_path, spec2_name)\n",
    "with open(spec2_fpath, 'w') as f:\n",
    "    f.write(spec2)\n",
    "print \"Spec file written: {}\".format(spec2_fpath)"
   ]
  },
  {
   "cell_type": "markdown",
   "metadata": {},
   "source": [
    "## Create Split"
   ]
  },
  {
   "cell_type": "code",
   "execution_count": null,
   "metadata": {},
   "outputs": [],
   "source": [
    "from tools import pra_setup\n",
    "\n",
    "pra_setup.create_split({'train': train2id, 'valid': valid2id, 'test': test2id},\n",
    "                       splits_dirpath=import_path+'/pra_explain/splits',\n",
    "                       split_name=split_name)"
   ]
  },
  {
   "cell_type": "markdown",
   "metadata": {},
   "source": [
    "## Extract Paths for split"
   ]
  },
  {
   "cell_type": "code",
   "execution_count": null,
   "metadata": {},
   "outputs": [],
   "source": [
    "%%bash -s \"$pra_explain_path_abs\" \"$spec_name\" \"$n_relations\"\n",
    "\n",
    "for i in $(seq 1 $3)\n",
    "do\n",
    "    (cd /home/arthurcgusmao/Projects/xkbc/algorithms/pra/; sbt \"runMain edu.cmu.ml.rtw.pra.experiments.ExperimentRunner $1 $2\")\n",
    "done"
   ]
  },
  {
   "cell_type": "code",
   "execution_count": null,
   "metadata": {},
   "outputs": [],
   "source": [
    "print(\"Features (paths) extracted and saved into:\\n{}\".format(os.path.abspath(pra_explain_path)))"
   ]
  },
  {
   "cell_type": "markdown",
   "metadata": {},
   "source": [
    "# Debug"
   ]
  },
  {
   "cell_type": "code",
   "execution_count": null,
   "metadata": {},
   "outputs": [],
   "source": [
    "# !rm /home/arthurcgusmao/Projects/xkbc/algorithms/OpenKE/./results/FB13/TransE/1524490825//pra_explain//results/ -r"
   ]
  },
  {
   "cell_type": "code",
   "execution_count": null,
   "metadata": {},
   "outputs": [],
   "source": [
    "# !rm /home/arthurcgusmao/Projects/xkbc/algorithms/OpenKE/./results/FB13/TransE/1524490825//pra_explain//splits/ -r"
   ]
  },
  {
   "cell_type": "code",
   "execution_count": null,
   "metadata": {},
   "outputs": [],
   "source": [
    "# !rm ./benchmarks/FB13//pra_graph_input/ -r"
   ]
  },
  {
   "cell_type": "code",
   "execution_count": null,
   "metadata": {},
   "outputs": [],
   "source": []
  }
 ],
 "metadata": {
  "kernelspec": {
   "display_name": "Python 2",
   "language": "python",
   "name": "python2"
  },
  "language_info": {
   "codemirror_mode": {
    "name": "ipython",
    "version": 2
   },
   "file_extension": ".py",
   "mimetype": "text/x-python",
   "name": "python",
   "nbconvert_exporter": "python",
   "pygments_lexer": "ipython2",
   "version": "2.7.14"
  }
 },
 "nbformat": 4,
 "nbformat_minor": 2
}
