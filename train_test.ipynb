{
 "cells": [
  {
   "cell_type": "code",
   "execution_count": null,
   "metadata": {},
   "outputs": [],
   "source": [
    "import config\n",
    "import models\n",
    "import json\n",
    "import numpy as np\n",
    "import pandas as pd\n",
    "import os\n",
    "import time\n",
    "import matplotlib.pyplot as plt"
   ]
  },
  {
   "cell_type": "markdown",
   "metadata": {},
   "source": [
    "Main variables"
   ]
  },
  {
   "cell_type": "code",
   "execution_count": null,
   "metadata": {},
   "outputs": [],
   "source": [
    "dataset_name = \"FB13\"\n",
    "embedding_model = models.TransD\n",
    "nb_name = 'train_test.ipynb' # necessary for saving the files in the end of notebook"
   ]
  },
  {
   "cell_type": "markdown",
   "metadata": {},
   "source": [
    "Hyperparameters"
   ]
  },
  {
   "cell_type": "code",
   "execution_count": null,
   "metadata": {},
   "outputs": [],
   "source": [
    "batch_size    = None # mini-batch size (takes precedence over n_batches)\n",
    "n_batches     = 200 # number of batches\n",
    "n_epochs      = 1000 # epochs\n",
    "learning_rate = 1.0\n",
    "margin        = 1.0\n",
    "k             = 100 # embedding dimension\n",
    "bern          = 1 # use Bernoulli distribution for generating negative training examples\n",
    "opt_method    = 'adadelta'\n",
    "score_norm    = 'l2' # implemented in only TransD so far"
   ]
  },
  {
   "cell_type": "markdown",
   "metadata": {},
   "source": [
    "Logging"
   ]
  },
  {
   "cell_type": "code",
   "execution_count": null,
   "metadata": {},
   "outputs": [],
   "source": [
    "log_on = 1\n",
    "log_type = 'batch'\n",
    "log_print = True"
   ]
  },
  {
   "cell_type": "markdown",
   "metadata": {},
   "source": [
    "Create config instance and set hyperparameters"
   ]
  },
  {
   "cell_type": "code",
   "execution_count": null,
   "metadata": {},
   "outputs": [],
   "source": [
    "con = config.Config()\n",
    "dataset_path = \"./benchmarks/{}/\".format(dataset_name)\n",
    "con.set_in_path(dataset_path)\n",
    "con.set_test_triple_classification(True)\n",
    "con.set_log_on(log_on, log_type=log_type, log_print=log_print)\n",
    "con.set_train_times(n_epochs)\n",
    "con.set_batch_size(batch_size) if batch_size != None else con.set_nbatches(n_batches)\n",
    "con.set_alpha(learning_rate)\n",
    "con.set_bern(bern)\n",
    "con.set_dimension(k)\n",
    "con.set_margin(margin)\n",
    "# con.set_ent_neg_rate(1)\n",
    "# con.set_rel_neg_rate(0)\n",
    "con.set_opt_method(opt_method)"
   ]
  },
  {
   "cell_type": "markdown",
   "metadata": {},
   "source": [
    "Device settings: GPU and CPU"
   ]
  },
  {
   "cell_type": "code",
   "execution_count": null,
   "metadata": {},
   "outputs": [],
   "source": [
    "# ___CPU___\n",
    "con.set_work_threads(8)\n",
    "\n",
    "# ___GPU___\n",
    "os.environ[\"CUDA_VISIBLE_DEVICES\"]=\"1\""
   ]
  },
  {
   "cell_type": "markdown",
   "metadata": {},
   "source": [
    "## Training"
   ]
  },
  {
   "cell_type": "markdown",
   "metadata": {},
   "source": [
    "Train the model"
   ]
  },
  {
   "cell_type": "code",
   "execution_count": null,
   "metadata": {},
   "outputs": [],
   "source": [
    "# defining the export path\n",
    "export_path = \"./results/{}/{}/{}\".format(\n",
    "    dataset_name,\n",
    "    embedding_model.__name__,\n",
    "    int(time.time()))\n",
    "\n",
    "# create export_path dir if it does not exist\n",
    "def ensure_dir(file_path):\n",
    "    directory = os.path.dirname(file_path)\n",
    "    if not os.path.exists(directory):\n",
    "        os.makedirs(directory)\n",
    "ensure_dir(export_path + '/') # without the \"/\" in the end the path wasn't being created\n",
    "\n",
    "print(\"Model will be exported to {}. \\n\".format(export_path))\n",
    "\n",
    "\n",
    "\n",
    "con.set_export_files(\"{}/model.pt\".format(export_path))\n",
    "\n",
    "# Model parameters will be exported to json files automatically.\n",
    "con.set_out_files(\"{}/embedding.vec.json\".format(export_path))\n",
    "\n",
    "# Initialize experimental settings.\n",
    "con.init()\n",
    "\n",
    "# Pass the model to the configuration\n",
    "con.set_model(model=embedding_model,\n",
    "              score_norm=score_norm)\n",
    "\n",
    "# Train the model.\n",
    "%time con.run()\n",
    "\n",
    "# Save training log\n",
    "data = pd.DataFrame(con.learning_log)\n",
    "data.to_csv(\"{}/learning_log.csv\".format(export_path))"
   ]
  },
  {
   "cell_type": "markdown",
   "metadata": {},
   "source": [
    "Plot and save the learning curve"
   ]
  },
  {
   "cell_type": "code",
   "execution_count": null,
   "metadata": {},
   "outputs": [],
   "source": [
    "if log_type == 'epoch':\n",
    "    y_min = data.epoch_loss.min()\n",
    "    y_max = data.epoch_loss.iloc[n_epochs // 10]\n",
    "\n",
    "    fig, ax1 = plt.subplots()\n",
    "\n",
    "    ax1.set(xlim=[0, n_epochs],\n",
    "            ylim=[y_min, y_max],\n",
    "            title='Training Loss and Validation Accuracy',\n",
    "            xlabel='Epoch',\n",
    "            ylabel='Loss'\n",
    "           )\n",
    "    ax1.plot(data.epoch, data.epoch_loss, label='Loss')\n",
    "    ax1.legend(loc=2)\n",
    "\n",
    "    ax2 = ax1.twinx()\n",
    "    ax2.plot(data.epoch, data.valid_acc, label='Valid Acc', color='orange')\n",
    "    ax2.set(ylabel='Accuracy')\n",
    "    ax2.legend(loc=1)\n",
    "\n",
    "    fig.set_size_inches(18, 12)\n",
    "    fig.savefig(\"{}/learning_curve.svg\".format(export_path))\n",
    "    \n",
    "elif log_type == 'batch':\n",
    "    fig, ax1 = plt.subplots()\n",
    "\n",
    "    ax1.set(title='Training Loss and Validation Accuracy',\n",
    "            xlabel='Batch (absolute)',\n",
    "            ylabel='Loss',\n",
    "           )\n",
    "    ax1.plot(data.batch_loss, label='Batch Loss')\n",
    "    ax1.legend(loc=2)\n",
    "\n",
    "    ax2 = ax1.twinx()\n",
    "    ax2.plot(data.valid_acc, label='Valid Acc', color='orange')\n",
    "    ax2.set(ylabel='Accuracy')\n",
    "    ax2.legend(loc=1)\n",
    "\n",
    "    fig.set_size_inches(18, 12)\n",
    "    fig.savefig(\"{}/learning_curve.svg\".format(export_path))"
   ]
  },
  {
   "cell_type": "markdown",
   "metadata": {},
   "source": [
    "## Testing"
   ]
  },
  {
   "cell_type": "code",
   "execution_count": null,
   "metadata": {},
   "outputs": [],
   "source": [
    "con.set_model(embedding_model,\n",
    "              score_norm=score_norm) # dont know why this was necessary to run test()\n",
    "con.import_variables(\"{}/model.pt\".format(export_path)) # loading model via torch.load()\n",
    "con.test()"
   ]
  },
  {
   "cell_type": "markdown",
   "metadata": {},
   "source": [
    "Get average accuracy and save to file"
   ]
  },
  {
   "cell_type": "code",
   "execution_count": null,
   "metadata": {},
   "outputs": [],
   "source": [
    "from ctypes import c_float\n",
    "res = c_float.in_dll(con.lib, 'aveAcc')\n",
    "avg_acc = res.value\n",
    "print \"Average accuracy in the test set is {}\".format(avg_acc)"
   ]
  },
  {
   "cell_type": "code",
   "execution_count": null,
   "metadata": {},
   "outputs": [],
   "source": [
    "# save result to a file\n",
    "with open(\"{}/test_accuracy.txt\".format(export_path), 'w') as f:\n",
    "    f.write(\"Average accuracy in the test set is {}\".format(avg_acc))"
   ]
  },
  {
   "cell_type": "markdown",
   "metadata": {},
   "source": [
    "## Saving history and the notebook"
   ]
  },
  {
   "cell_type": "code",
   "execution_count": null,
   "metadata": {},
   "outputs": [],
   "source": [
    "nb_name_html = nb_name.replace('.ipynb', '.html')"
   ]
  },
  {
   "cell_type": "markdown",
   "metadata": {},
   "source": [
    "Save the current notebook"
   ]
  },
  {
   "cell_type": "code",
   "execution_count": null,
   "metadata": {},
   "outputs": [],
   "source": [
    "from IPython.display import display,Javascript\n",
    "display(Javascript('IPython.notebook.save_checkpoint();'))"
   ]
  },
  {
   "cell_type": "markdown",
   "metadata": {},
   "source": [
    "Save an (converted) html file of this notebook"
   ]
  },
  {
   "cell_type": "code",
   "execution_count": null,
   "metadata": {},
   "outputs": [],
   "source": [
    "bashCommand = \"jupyter nbconvert --to html {}\".format(nb_name)\n",
    "import subprocess\n",
    "process = subprocess.Popen(bashCommand.split(), stdout=subprocess.PIPE)\n",
    "output, error = process.communicate()"
   ]
  },
  {
   "cell_type": "markdown",
   "metadata": {},
   "source": [
    "Save a history file"
   ]
  },
  {
   "cell_type": "code",
   "execution_count": null,
   "metadata": {},
   "outputs": [],
   "source": [
    "%notebook history.ipynb"
   ]
  },
  {
   "cell_type": "markdown",
   "metadata": {},
   "source": [
    "Move saved files to results directory"
   ]
  },
  {
   "cell_type": "code",
   "execution_count": null,
   "metadata": {},
   "outputs": [],
   "source": [
    "bashCommand = \"mv -t {}/ history.ipynb {}\".format(export_path, nb_name_html)\n",
    "import subprocess\n",
    "process = subprocess.Popen(bashCommand.split(), stdout=subprocess.PIPE)\n",
    "output, error = process.communicate()"
   ]
  },
  {
   "cell_type": "markdown",
   "metadata": {},
   "source": [
    "Copy current notebook to results directory"
   ]
  },
  {
   "cell_type": "code",
   "execution_count": null,
   "metadata": {},
   "outputs": [],
   "source": [
    "bashCommand = \"cp {} {}/\".format(nb_name, export_path)\n",
    "import subprocess\n",
    "process = subprocess.Popen(bashCommand.split(), stdout=subprocess.PIPE)\n",
    "output, error = process.communicate()"
   ]
  }
 ],
 "metadata": {
  "kernelspec": {
   "display_name": "Python 2",
   "language": "python",
   "name": "python2"
  },
  "language_info": {
   "codemirror_mode": {
    "name": "ipython",
    "version": 2
   },
   "file_extension": ".py",
   "mimetype": "text/x-python",
   "name": "python",
   "nbconvert_exporter": "python",
   "pygments_lexer": "ipython2",
   "version": "2.7.14"
  }
 },
 "nbformat": 4,
 "nbformat_minor": 2
}
