{
 "cells": [
  {
   "cell_type": "code",
   "execution_count": null,
   "metadata": {},
   "outputs": [],
   "source": [
    "import config\n",
    "import models\n",
    "import json\n",
    "import numpy as np\n",
    "import pandas as pd\n",
    "import os\n",
    "import time\n",
    "import matplotlib.pyplot as plt"
   ]
  },
  {
   "cell_type": "markdown",
   "metadata": {},
   "source": [
    "Main variables"
   ]
  },
  {
   "cell_type": "code",
   "execution_count": null,
   "metadata": {},
   "outputs": [],
   "source": [
    "dataset_path = \"./benchmarks/FB15K/\"\n",
    "embedding_model = models.TransE\n",
    "nb_name = 'train_test.ipynb' # necessary for saving the files in the end of notebook"
   ]
  },
  {
   "cell_type": "markdown",
   "metadata": {},
   "source": [
    "Create config instance and set parameters"
   ]
  },
  {
   "cell_type": "code",
   "execution_count": null,
   "metadata": {},
   "outputs": [],
   "source": [
    "con = config.Config()\n",
    "con.set_in_path(dataset_path)\n",
    "# con.set_test_triple_classification(True)\n",
    "con.set_log_on(1)\n",
    "con.set_work_threads(8)\n",
    "n_epochs = 500\n",
    "con.set_train_times(n_epochs)\n",
    "con.set_nbatches(100)\n",
    "con.set_alpha(0.001)\n",
    "con.set_bern(0)\n",
    "con.set_dimension(100)\n",
    "con.set_margin(1.0)\n",
    "con.set_ent_neg_rate(1)\n",
    "con.set_rel_neg_rate(0)\n",
    "con.set_opt_method(\"SGD\")"
   ]
  },
  {
   "cell_type": "markdown",
   "metadata": {},
   "source": [
    "## Training"
   ]
  },
  {
   "cell_type": "markdown",
   "metadata": {},
   "source": [
    "Train the model"
   ]
  },
  {
   "cell_type": "code",
   "execution_count": null,
   "metadata": {},
   "outputs": [],
   "source": [
    "# defining the export path\n",
    "export_path = \"./results/{}/{}\".format(\n",
    "    embedding_model.__name__,\n",
    "    int(time.time()))\n",
    "\n",
    "# create export_path dir if it does not exist\n",
    "def ensure_dir(file_path):\n",
    "    directory = os.path.dirname(file_path)\n",
    "    if not os.path.exists(directory):\n",
    "        os.makedirs(directory)\n",
    "ensure_dir(export_path + '/') # without the \"/\" in the end the path wasn't being created\n",
    "\n",
    "print(\"Model will be exported to {}. \\n\".format(export_path))\n",
    "\n",
    "\n",
    "\n",
    "con.set_export_files(\"{}/model.pt\".format(export_path))\n",
    "\n",
    "# Model parameters will be exported to json files automatically.\n",
    "con.set_out_files(\"{}/embedding.vec.json\".format(export_path))\n",
    "\n",
    "# Initialize experimental settings.\n",
    "con.init()\n",
    "\n",
    "# Pass the model to the configuration\n",
    "con.set_model(embedding_model)\n",
    "\n",
    "# Train the model.\n",
    "%time con.run()\n",
    "\n",
    "# Save training log\n",
    "pd.DataFrame(con.learning_log, columns=['epoch', 'loss']).to_csv(\"{}/learning_log.csv\".format(export_path))"
   ]
  },
  {
   "cell_type": "markdown",
   "metadata": {},
   "source": [
    "Plot and save the learning curve"
   ]
  },
  {
   "cell_type": "code",
   "execution_count": null,
   "metadata": {},
   "outputs": [],
   "source": [
    "data = np.array(con.learning_log)\n",
    "\n",
    "axes = plt.gca()\n",
    "axes.set_xlim([0, n_epochs])\n",
    "axes.set_ylim([0, 200000])\n",
    "plt.plot(data[:,1])\n",
    "fig = plt.gcf()\n",
    "fig.set_size_inches(18, 12)\n",
    "fig.savefig(\"{}/learning_curve.svg\".format(export_path))"
   ]
  },
  {
   "cell_type": "markdown",
   "metadata": {},
   "source": [
    "## Testing"
   ]
  },
  {
   "cell_type": "code",
   "execution_count": null,
   "metadata": {},
   "outputs": [],
   "source": [
    "con.set_model(embedding_model) # dont know why this was necessary to run test()\n",
    "con.test()"
   ]
  },
  {
   "cell_type": "markdown",
   "metadata": {},
   "source": [
    "Get average accuracy and save to file"
   ]
  },
  {
   "cell_type": "code",
   "execution_count": null,
   "metadata": {},
   "outputs": [],
   "source": [
    "from ctypes import c_float\n",
    "res = c_float.in_dll(con.lib, 'aveAcc')\n",
    "avg_acc = res.value\n",
    "print \"Average accuracy in the test set is {}\".format(avg_acc)"
   ]
  },
  {
   "cell_type": "code",
   "execution_count": null,
   "metadata": {},
   "outputs": [],
   "source": [
    "with open(\"{}/test_accuracy.txt\".format(export_path), 'w') as f:\n",
    "    f.write(\"Average accuracy in the test set is {}\".format(avg_acc))\n",
    "    # file will be closed automatically when using the `with` statement"
   ]
  },
  {
   "cell_type": "markdown",
   "metadata": {},
   "source": [
    "## Saving history and the notebook"
   ]
  },
  {
   "cell_type": "code",
   "execution_count": null,
   "metadata": {},
   "outputs": [],
   "source": [
    "nb_name_html = nb_name.replace('.ipynb', '.html')"
   ]
  },
  {
   "cell_type": "markdown",
   "metadata": {},
   "source": [
    "Save the current notebook"
   ]
  },
  {
   "cell_type": "code",
   "execution_count": null,
   "metadata": {},
   "outputs": [],
   "source": [
    "from IPython.display import display,Javascript\n",
    "display(Javascript('IPython.notebook.save_checkpoint();'))"
   ]
  },
  {
   "cell_type": "markdown",
   "metadata": {},
   "source": [
    "Save an (converted) html file of this notebook"
   ]
  },
  {
   "cell_type": "code",
   "execution_count": null,
   "metadata": {},
   "outputs": [],
   "source": [
    "bashCommand = \"jupyter nbconvert --to html {}\".format(nb_name)\n",
    "import subprocess\n",
    "process = subprocess.Popen(bashCommand.split(), stdout=subprocess.PIPE)\n",
    "output, error = process.communicate()"
   ]
  },
  {
   "cell_type": "markdown",
   "metadata": {},
   "source": [
    "Save a history file"
   ]
  },
  {
   "cell_type": "code",
   "execution_count": null,
   "metadata": {},
   "outputs": [],
   "source": [
    "%notebook history.ipynb"
   ]
  },
  {
   "cell_type": "markdown",
   "metadata": {},
   "source": [
    "Move saved files to results directory"
   ]
  },
  {
   "cell_type": "code",
   "execution_count": null,
   "metadata": {},
   "outputs": [],
   "source": [
    "bashCommand = \"mv -t {}/ history.ipynb {}\".format(export_path, nb_name_html)\n",
    "import subprocess\n",
    "process = subprocess.Popen(bashCommand.split(), stdout=subprocess.PIPE)\n",
    "output, error = process.communicate()"
   ]
  },
  {
   "cell_type": "markdown",
   "metadata": {},
   "source": [
    "Copy current notebook to results directory"
   ]
  },
  {
   "cell_type": "code",
   "execution_count": null,
   "metadata": {},
   "outputs": [],
   "source": [
    "bashCommand = \"cp {} {}/\".format(nb_name, export_path)\n",
    "import subprocess\n",
    "process = subprocess.Popen(bashCommand.split(), stdout=subprocess.PIPE)\n",
    "output, error = process.communicate()"
   ]
  }
 ],
 "metadata": {
  "kernelspec": {
   "display_name": "Python 2",
   "language": "python",
   "name": "python2"
  },
  "language_info": {
   "codemirror_mode": {
    "name": "ipython",
    "version": 2
   },
   "file_extension": ".py",
   "mimetype": "text/x-python",
   "name": "python",
   "nbconvert_exporter": "python",
   "pygments_lexer": "ipython2",
   "version": "2.7.14"
  }
 },
 "nbformat": 4,
 "nbformat_minor": 2
}
