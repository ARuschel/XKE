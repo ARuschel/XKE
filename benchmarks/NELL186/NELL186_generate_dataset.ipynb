{
 "cells": [
  {
   "cell_type": "code",
   "execution_count": null,
   "metadata": {},
   "outputs": [],
   "source": [
    "import pandas as pd\n",
    "import numpy as np"
   ]
  },
  {
   "cell_type": "code",
   "execution_count": null,
   "metadata": {},
   "outputs": [],
   "source": [
    "dataset_name = 'NELL186'\n",
    "dataset_path = './benchmarks/' + dataset_name + '/'"
   ]
  },
  {
   "cell_type": "markdown",
   "metadata": {},
   "source": [
    "Transform valid and valid_pos into one file, the same for test"
   ]
  },
  {
   "cell_type": "code",
   "execution_count": null,
   "metadata": {},
   "outputs": [],
   "source": [
    "valid_pos = pd.read_csv(dataset_path + '/validPos.txt', skiprows=0, sep='\\t', names=['head', 'relation', 'tail'])\n",
    "valid_neg = pd.read_csv(dataset_path + '/validNeg.txt', skiprows=0, sep='\\t', names=['head', 'relation', 'tail'])\n",
    "\n",
    "test_pos = pd.read_csv(dataset_path + '/testPos.txt', skiprows=0, sep='\\t', names=['head', 'relation', 'tail'])\n",
    "test_neg = pd.read_csv(dataset_path + '/testNeg.txt', skiprows=0, sep='\\t', names=['head', 'relation', 'tail'])"
   ]
  },
  {
   "cell_type": "code",
   "execution_count": null,
   "metadata": {},
   "outputs": [],
   "source": [
    "valid_pos['label'] = 1\n",
    "valid_neg['label'] = -1\n",
    "\n",
    "test_pos['label'] = 1\n",
    "test_neg['label'] = -1"
   ]
  },
  {
   "cell_type": "code",
   "execution_count": null,
   "metadata": {},
   "outputs": [],
   "source": [
    "def concat_intercalating(df1, df2):\n",
    "    output = []\n",
    "    if len(df1) != len(df2): raise ValueError('DataFrames should have the same length!')\n",
    "    for i in range(len(df1)):\n",
    "        output.append(df1.iloc[i])\n",
    "        output.append(df2.iloc[i])\n",
    "    return pd.DataFrame(output)"
   ]
  },
  {
   "cell_type": "code",
   "execution_count": null,
   "metadata": {},
   "outputs": [],
   "source": [
    "valid = concat_intercalating(valid_pos, valid_neg)\n",
    "test = concat_intercalating(test_pos, test_neg)"
   ]
  },
  {
   "cell_type": "code",
   "execution_count": null,
   "metadata": {},
   "outputs": [],
   "source": [
    "valid.to_csv(dataset_path + 'valid.txt', sep='\\t', index=False, header=False)\n",
    "test.to_csv(dataset_path + 'test.txt', sep='\\t', index=False, header=False)"
   ]
  },
  {
   "cell_type": "markdown",
   "metadata": {},
   "source": [
    "## Using functions from tools now"
   ]
  },
  {
   "cell_type": "code",
   "execution_count": null,
   "metadata": {},
   "outputs": [],
   "source": [
    "from tools.dataset_tools import *"
   ]
  },
  {
   "cell_type": "code",
   "execution_count": null,
   "metadata": {},
   "outputs": [],
   "source": [
    "generate_name2id_files(dataset_path, labels=['valid.txt', 'test.txt'])"
   ]
  },
  {
   "cell_type": "code",
   "execution_count": null,
   "metadata": {},
   "outputs": [],
   "source": [
    "generate_fold2id_files(dataset_path, labels=['valid.txt', 'test.txt'])"
   ]
  },
  {
   "cell_type": "code",
   "execution_count": null,
   "metadata": {},
   "outputs": [],
   "source": [
    "generate_type_constrain_file(dataset_path=dataset_path)"
   ]
  },
  {
   "cell_type": "code",
   "execution_count": null,
   "metadata": {},
   "outputs": [],
   "source": [
    "ensure_one_to_one_negative_examples(dataset_path)"
   ]
  }
 ],
 "metadata": {
  "kernelspec": {
   "display_name": "Python 2",
   "language": "python",
   "name": "python2"
  },
  "language_info": {
   "codemirror_mode": {
    "name": "ipython",
    "version": 2
   },
   "file_extension": ".py",
   "mimetype": "text/x-python",
   "name": "python",
   "nbconvert_exporter": "python",
   "pygments_lexer": "ipython2",
   "version": "2.7.14"
  }
 },
 "nbformat": 4,
 "nbformat_minor": 2
}
