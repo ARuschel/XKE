{
 "cells": [
  {
   "cell_type": "markdown",
   "metadata": {},
   "source": [
    "# Analyze extracted features\n",
    "\n",
    "The goal of this notebook is to compute and present information from the features that were extracted by PRA/SFE."
   ]
  },
  {
   "cell_type": "code",
   "execution_count": null,
   "metadata": {},
   "outputs": [],
   "source": [
    "import pandas as pd\n",
    "import numpy as np\n",
    "import os, time\n",
    "from explain.helpers import parse_feature_matrix, get_dirs\n",
    "from tools import train_test"
   ]
  },
  {
   "cell_type": "code",
   "execution_count": null,
   "metadata": {},
   "outputs": [],
   "source": [
    "# emb_import_paths = [\n",
    "#     \"/home/arthurcgusmao/Projects/xkbc/algorithms/OpenKE/results/WN11/TransE/1527008113\",\n",
    "#     \"/home/arthurcgusmao/Projects/xkbc/algorithms/OpenKE/results/FB13/TransE/1527033688\",\n",
    "#     \"/home/arthurcgusmao/Projects/xkbc/algorithms/OpenKE/results/NELL186/TransE/1526711822\",\n",
    "# ]\n",
    "\n",
    "def extraction_results(emb_import_paths):\n",
    "    results = []\n",
    "    \n",
    "    for emb_import_path in emb_import_paths:\n",
    "        model_info = train_test.read_model_info(emb_import_path)\n",
    "        print(\"Processing results for {}, {}, ({}):\".format(model_info['dataset_name'], model_info['model_name'], emb_import_path.split('/')[-1]))\n",
    "        pra_results_dir = os.path.join(emb_import_path, 'pra_explain/results')\n",
    "        extracted_features_dirs_names = get_dirs(pra_results_dir)\n",
    "        for extracted_features_dirs_name in extracted_features_dirs_names:\n",
    "            dpath = os.path.join(pra_results_dir, extracted_features_dirs_name)\n",
    "            relations = get_dirs(dpath)\n",
    "            n_feats = {}\n",
    "            \n",
    "            for rel in relations:\n",
    "                for fm in os.listdir(os.path.join(dpath, rel)):\n",
    "                    heads, tails, labels, feat_dicts = parse_feature_matrix(os.path.join(dpath, rel, fm))\n",
    "                    n_feats[fm] = pd.concat((pd.Series([len(fd) for fd in feat_dicts]), n_feats.get(fm, pd.Series()))) # concatenate features of all relations for the same fold feature matrix (e.g. train.tsv) file.\n",
    "                    \n",
    "            res = {\n",
    "                'dataset': model_info['dataset_name'],\n",
    "                'model': model_info['model_name'],\n",
    "                'timestamp': emb_import_path.split('/')[-1],\n",
    "                'extracted features': extracted_features_dirs_name,\n",
    "            }\n",
    "            total = 0\n",
    "            total_w_feats = 0 # total of examples with one or more features\n",
    "            total_n_feats = 0 # average number of features per example\n",
    "            for fm,series in n_feats.iteritems():\n",
    "                res[fm] = len(series)\n",
    "                res[\"{}>1\".format(fm)] = len(series.loc[series >= 1])\n",
    "                total += len(series)\n",
    "                total_w_feats += len(series.loc[series >= 1])\n",
    "                total_n_feats += np.sum(series)\n",
    "            res['avg #feats/example'] = float(total_n_feats) / total\n",
    "            res['total'] = total\n",
    "            res[\"total>1\"] = total_w_feats\n",
    "            res['% > 1'] = float(total_w_feats) / total\n",
    "            results.append(res)\n",
    "            print(\"\\t{} (...)\".format(extracted_features_dirs_name))\n",
    "    print(\"Done.\")\n",
    "    return results"
   ]
  },
  {
   "cell_type": "markdown",
   "metadata": {},
   "source": [
    "# Run"
   ]
  },
  {
   "cell_type": "code",
   "execution_count": null,
   "metadata": {},
   "outputs": [],
   "source": [
    "emb_import_paths = [\n",
    "    \"/home/arthurcgusmao/Projects/xkbc/algorithms/OpenKE/results/WN11/TransE/1527008113\",\n",
    "    \"/home/arthurcgusmao/Projects/xkbc/algorithms/OpenKE/results/FB13/TransE/1527033688\",\n",
    "    \"/home/arthurcgusmao/Projects/xkbc/algorithms/OpenKE/results/NELL186/TransE/1526711822\",\n",
    "]\n",
    "res = extraction_results(emb_import_paths)\n",
    "pd.DataFrame(res)"
   ]
  },
  {
   "cell_type": "markdown",
   "metadata": {},
   "source": [
    "# Debug"
   ]
  },
  {
   "cell_type": "code",
   "execution_count": null,
   "metadata": {},
   "outputs": [],
   "source": []
  }
 ],
 "metadata": {
  "kernelspec": {
   "display_name": "Python 2",
   "language": "python",
   "name": "python2"
  },
  "language_info": {
   "codemirror_mode": {
    "name": "ipython",
    "version": 2
   },
   "file_extension": ".py",
   "mimetype": "text/x-python",
   "name": "python",
   "nbconvert_exporter": "python",
   "pygments_lexer": "ipython2",
   "version": "2.7.14"
  }
 },
 "nbformat": 4,
 "nbformat_minor": 2
}
