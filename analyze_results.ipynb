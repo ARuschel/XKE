{
 "cells": [
  {
   "cell_type": "code",
   "execution_count": null,
   "metadata": {},
   "outputs": [],
   "source": [
    "%matplotlib inline\n",
    "import os\n",
    "import pandas as pd\n",
    "import numpy as np\n",
    "from tools import train_test\n",
    "from tools import plots\n",
    "\n",
    "# pandas displaying options\n",
    "pd.set_option('display.max_rows', 500)\n",
    "pd.set_option('display.max_columns', 500)\n",
    "pd.set_option('display.height', 1000)\n",
    "pd.set_option('display.width', 1000)"
   ]
  },
  {
   "cell_type": "code",
   "execution_count": null,
   "metadata": {},
   "outputs": [],
   "source": [
    "# read all results into infos dataframe\n",
    "rdir = './results'\n",
    "infos = pd.DataFrame()\n",
    "for root, subdirs, files in os.walk(rdir):\n",
    "    if root[len(rdir)+1:].count(os.sep) == 2:\n",
    "        if 'model_info.tsv' in files:\n",
    "            info = pd.read_csv(root + '/model_info.tsv', sep='\\t')\n",
    "            timestamp = root.split(os.sep)[-1]\n",
    "            \n",
    "            # add loss stats to info\n",
    "            if 'learning_curve.tsv' in files:\n",
    "                learning_curve = pd.read_csv(root + '/learning_curve.tsv', sep='\\t')\n",
    "                if info['log_type'].iloc[0] == 'epoch':\n",
    "                    info['epoch_loss_min'] = learning_curve['epoch_loss'].min()\n",
    "                    info['epoch_loss_last'] = learning_curve['epoch_loss'].iloc[-1]\n",
    "            \n",
    "            info.index = [timestamp]\n",
    "            infos = pd.concat((infos, info))\n",
    "\n",
    "# applyt filter\n",
    "filt = infos\\\n",
    "    .loc[infos['test_link_prediction'] == True]\\\n",
    "    .loc[infos['model_name'] == 'Analogy']\\\n",
    "    .sort_index()\n",
    "\n",
    "filt"
   ]
  },
  {
   "cell_type": "markdown",
   "metadata": {},
   "source": [
    "## Plot learning curve"
   ]
  },
  {
   "cell_type": "code",
   "execution_count": null,
   "metadata": {},
   "outputs": [],
   "source": [
    "def learning_curve_from_filt(timestamp):\n",
    "    timestamp = unicode(timestamp)\n",
    "    for idx,row in filt.iterrows():\n",
    "        if idx == timestamp:\n",
    "            model_path = './results/' + row['dataset_name'] +'/'+ row['model_name'] +'/'+ idx\n",
    "            learning_curve = pd.read_csv(model_path + '/learning_curve.tsv', sep='\\t')\n",
    "            fig = plots.plot_learning_curve(learning_curve, row)"
   ]
  },
  {
   "cell_type": "code",
   "execution_count": null,
   "metadata": {},
   "outputs": [],
   "source": [
    "learning_curve_from_filt(1526180534)"
   ]
  }
 ],
 "metadata": {
  "kernelspec": {
   "display_name": "Python 2",
   "language": "python",
   "name": "python2"
  },
  "language_info": {
   "codemirror_mode": {
    "name": "ipython",
    "version": 2
   },
   "file_extension": ".py",
   "mimetype": "text/x-python",
   "name": "python",
   "nbconvert_exporter": "python",
   "pygments_lexer": "ipython2",
   "version": "2.7.14"
  }
 },
 "nbformat": 4,
 "nbformat_minor": 2
}
