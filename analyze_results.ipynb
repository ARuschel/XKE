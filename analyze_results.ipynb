{
 "cells": [
  {
   "cell_type": "code",
   "execution_count": null,
   "metadata": {},
   "outputs": [],
   "source": [
    "%matplotlib inline\n",
    "import os\n",
    "import pandas as pd\n",
    "import numpy as np\n",
    "from tools import train_test\n",
    "from tools import plots\n",
    "\n",
    "# pandas displaying options\n",
    "pd.set_option('display.max_rows', 500)\n",
    "pd.set_option('display.max_columns', 500)\n",
    "pd.set_option('display.height', 1000)\n",
    "pd.set_option('display.width', 1000)"
   ]
  },
  {
   "cell_type": "code",
   "execution_count": null,
   "metadata": {},
   "outputs": [],
   "source": [
    "# read all results into infos dataframe\n",
    "rdir = './results'\n",
    "infos = pd.DataFrame()\n",
    "for root, subdirs, files in os.walk(rdir):\n",
    "    if root[len(rdir)+1:].count(os.sep) == 2:\n",
    "        if 'model_info.tsv' in files:\n",
    "            info = pd.read_csv(root + '/model_info.tsv', sep='\\t')\n",
    "            timestamp = str(root.split(os.sep)[-1])\n",
    "            \n",
    "            # add loss stats to info\n",
    "            if 'learning_curve.tsv' in files:\n",
    "                learning_curve = pd.read_csv(root + '/learning_curve.tsv', sep='\\t')\n",
    "                if info['log_type'].iloc[0] == 'epoch':\n",
    "                    info['epoch_loss_min'] = learning_curve['epoch_loss'].min()\n",
    "                    info['epoch_loss_last'] = learning_curve['epoch_loss'].iloc[-1]\n",
    "            \n",
    "            info.index = [timestamp]\n",
    "            infos = pd.concat((infos, info))"
   ]
  },
  {
   "cell_type": "markdown",
   "metadata": {},
   "source": [
    "# Analysis"
   ]
  },
  {
   "cell_type": "markdown",
   "metadata": {},
   "source": [
    "## Filter data"
   ]
  },
  {
   "cell_type": "code",
   "execution_count": null,
   "metadata": {},
   "outputs": [],
   "source": [
    "filt = infos.loc[\n",
    "    (infos['model_name']   == 'Analogy') &\n",
    "    (infos['dataset_name'] == 'NELL186')\n",
    "].sort_index()"
   ]
  },
  {
   "cell_type": "code",
   "execution_count": null,
   "metadata": {},
   "outputs": [],
   "source": [
    "filt"
   ]
  },
  {
   "cell_type": "code",
   "execution_count": null,
   "metadata": {},
   "outputs": [],
   "source": [
    "filt.loc[filt.index == unicode(1526567410)].transpose()"
   ]
  },
  {
   "cell_type": "markdown",
   "metadata": {},
   "source": [
    "## Plot learning curve"
   ]
  },
  {
   "cell_type": "code",
   "execution_count": null,
   "metadata": {},
   "outputs": [],
   "source": [
    "def learning_curve_from_filt(timestamp):\n",
    "    timestamp = unicode(timestamp)\n",
    "    for idx,row in filt.iterrows():\n",
    "        if idx == timestamp:\n",
    "            model_path = './results/' + row['dataset_name'] +'/'+ row['model_name'] +'/'+ idx\n",
    "            learning_curve = pd.read_csv(model_path + '/learning_curve.tsv', sep='\\t')\n",
    "            fig = plots.plot_learning_curve(learning_curve, row)"
   ]
  },
  {
   "cell_type": "code",
   "execution_count": null,
   "metadata": {},
   "outputs": [],
   "source": [
    "learning_curve_from_filt(1526180534)"
   ]
  },
  {
   "cell_type": "markdown",
   "metadata": {},
   "source": [
    "# Export a set of models"
   ]
  },
  {
   "cell_type": "code",
   "execution_count": null,
   "metadata": {},
   "outputs": [],
   "source": [
    "models_ts = [\n",
    "    1526710056,\n",
    "    1526710447,\n",
    "    1526711822,\n",
    "    1526417226,\n",
    "    1526535074,\n",
    "]\n",
    "\n",
    "filt = pd.DataFrame()\n",
    "for ts in models_ts:\n",
    "    filt = pd.concat((filt, infos.loc[infos.index == unicode(ts)]))"
   ]
  },
  {
   "cell_type": "code",
   "execution_count": null,
   "metadata": {},
   "outputs": [],
   "source": [
    "filt.to_csv('/home/arthurcgusmao/Downloads/best_models.tsv', sep='\\t')"
   ]
  },
  {
   "cell_type": "code",
   "execution_count": null,
   "metadata": {},
   "outputs": [],
   "source": []
  }
 ],
 "metadata": {
  "kernelspec": {
   "display_name": "Python 2",
   "language": "python",
   "name": "python2"
  },
  "language_info": {
   "codemirror_mode": {
    "name": "ipython",
    "version": 2
   },
   "file_extension": ".py",
   "mimetype": "text/x-python",
   "name": "python",
   "nbconvert_exporter": "python",
   "pygments_lexer": "ipython2",
   "version": "2.7.14"
  }
 },
 "nbformat": 4,
 "nbformat_minor": 2
}
